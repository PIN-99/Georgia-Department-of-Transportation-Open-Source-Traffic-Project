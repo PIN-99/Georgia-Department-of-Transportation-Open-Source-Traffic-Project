{
 "cells": [
  {
   "cell_type": "code",
   "execution_count": 13,
   "id": "fc8ea3ce",
   "metadata": {},
   "outputs": [
    {
     "name": "stdout",
     "output_type": "stream",
     "text": [
      "   Unnamed: 0  sensor_id  weekday  time_slot  weekpart    traffic  \\\n",
      "0           0          0        0          0         0  12.244678   \n",
      "1           1          0        0          1         0  10.749207   \n",
      "2           2          0        0          2         0   9.448955   \n",
      "3           3          0        0          3         0   6.702497   \n",
      "4           4          0        0          4         0   5.798923   \n",
      "\n",
      "        Site_ID  latitude  longitude  \n",
      "0  0000001_0105  31.76743  -82.35349  \n",
      "1  0000001_0105  31.76743  -82.35349  \n",
      "2  0000001_0105  31.76743  -82.35349  \n",
      "3  0000001_0105  31.76743  -82.35349  \n",
      "4  0000001_0105  31.76743  -82.35349  \n"
     ]
    }
   ],
   "source": [
    "import pandas as pd\n",
    "# Read data (note: use the original file path and prefix with raw string r\"\")\n",
    "df1 = pd.read_csv(\"final_predict_df.csv\")\n",
    "df2 = pd.read_csv(\"gdot_sites_information.csv\")\n",
    "\n",
    "# Convert data types to strings and strip whitespace from both ends\n",
    "df1['Site_ID'] = df1['Site_ID'].astype(str).str.strip()\n",
    "df2['cosit'] = df2['cosit'].astype(str).str.strip()\n",
    "\n",
    "# Create a mapping dictionary: keys are 'cosit', values are (latitude, longitude)\n",
    "mapping_dict = df2.set_index('cosit')[['latitude', 'longitude']].to_dict(orient='index')\n",
    "# Example: {'000000010183': {'latitude': xxx, 'longitude': yyy}, ...}\n",
    "\n",
    "# Define a function to match Site_ID to latitude and longitude using substring containment\n",
    "def get_lat_lon(site_id):\n",
    "    for key, latlon in mapping_dict.items():\n",
    "        if site_id in key:\n",
    "            return latlon['latitude'], latlon['longitude']\n",
    "    return None, None\n",
    "\n",
    "# Extract all unique Site_IDs and build a mapping to avoid redundant computation\n",
    "unique_ids = df1['Site_ID'].unique()\n",
    "siteid_to_latlon = {}\n",
    "for sid in unique_ids:\n",
    "    lat, lon = get_lat_lon(sid)\n",
    "    siteid_to_latlon[sid] = (lat, lon)\n",
    "\n",
    "# Map the matched results back to df1 and add latitude and longitude columns\n",
    "df1['latitude'] = df1['Site_ID'].map(lambda x: siteid_to_latlon.get(x, (None, None))[0])\n",
    "df1['longitude'] = df1['Site_ID'].map(lambda x: siteid_to_latlon.get(x, (None, None))[1])\n",
    "\n",
    "# Check the result\n",
    "print(df1.head())\n",
    "\n",
    "# Save the result to a new file\n",
    "df1.to_csv(\"final_predict_pos.csv\", index=False)"
   ]
  },
  {
   "cell_type": "code",
   "execution_count": 16,
   "id": "9c1370d8",
   "metadata": {},
   "outputs": [],
   "source": [
    "import numpy as np\n",
    "import pandas as pd\n",
    "\n",
    "def predict_traffic_by_knn(lat, lon, weekday, time_slot, df, k=5):\n",
    "    \"\"\"\n",
    "    利用 kNN 从现有传感器中预测任意坐标点在指定一周几和时隙的流量。\n",
    "\n",
    "    Args:\n",
    "        lat (float): 待预测点纬度\n",
    "        lon (float): 待预测点经度\n",
    "        weekday (int): 周几编码，0=周一 … 6=周日\n",
    "        time_slot (int): 15 分钟时隙索引，0…95\n",
    "        df (DataFrame): 包含列 ['latitude','longitude','weekday','time_slot','traffic'] 的 DataFrame\n",
    "        k (int): 最近邻数\n",
    "\n",
    "    Returns:\n",
    "        float or None: k 个最近传感器流量的平均值；如果没有观测，则返回 None\n",
    "    \"\"\"\n",
    "    # 1. 筛选出同一天、同一时隙的记录\n",
    "    sub = df[(df['weekday'] == weekday) & (df['time_slot'] == time_slot)]\n",
    "    if sub.empty:\n",
    "        return None\n",
    "\n",
    "    # 2. 计算与目标点的欧氏距离\n",
    "    coords = sub[['latitude', 'longitude']].to_numpy()\n",
    "    target = np.array([lat, lon])\n",
    "    dists = np.linalg.norm(coords - target, axis=1)\n",
    "\n",
    "    # 3. 取 k 个最小距离的索引\n",
    "    idx = np.argsort(dists)[:min(k, len(dists))]\n",
    "\n",
    "    # 4. 返回这 k 个传感器的 traffic 平均\n",
    "    return sub['traffic'].to_numpy()[idx].mean()\n"
   ]
  },
  {
   "cell_type": "code",
   "execution_count": 17,
   "id": "69c5dbbf",
   "metadata": {},
   "outputs": [
    {
     "name": "stdout",
     "output_type": "stream",
     "text": [
      "Predicted flow at (33.749, -84.388) on Wed 08:15: 459.85\n"
     ]
    }
   ],
   "source": [
    "# —— 读取你的预测数据 —— \n",
    "# （已包含每个时隙的 traffic，用于 kNN 预测填充）\n",
    "df_all = pd.read_csv(\n",
    "    r\"final_predict_pos.csv\"\n",
    ")\n",
    "\n",
    "# 示例：查询 Atlanta 某点在“周三”08:15 的流量\n",
    "lat, lon = 33.7490, -84.3880\n",
    "weekday    = 2           # Wednesday\n",
    "time_slot  = 8 * 4 + 1   # 08:15\n",
    "pred = predict_traffic_by_knn(lat, lon, weekday, time_slot, df_all, k=5)\n",
    "print(f\"Predicted flow at ({lat}, {lon}) on Wed 08:15: {pred:.2f}\")"
   ]
  }
 ],
 "metadata": {
  "kernelspec": {
   "display_name": "base",
   "language": "python",
   "name": "python3"
  },
  "language_info": {
   "codemirror_mode": {
    "name": "ipython",
    "version": 3
   },
   "file_extension": ".py",
   "mimetype": "text/x-python",
   "name": "python",
   "nbconvert_exporter": "python",
   "pygments_lexer": "ipython3",
   "version": "3.9.15"
  }
 },
 "nbformat": 4,
 "nbformat_minor": 5
}
