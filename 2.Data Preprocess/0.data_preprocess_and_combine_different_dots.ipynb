{
 "cells": [
  {
   "cell_type": "code",
   "execution_count": 5,
   "metadata": {},
   "outputs": [],
   "source": [
    "import pandas as pd\n",
    "moreDate_data = pd.read_csv(\"./combined_results_deduplicated_triangle.csv\")"
   ]
  },
  {
   "cell_type": "code",
   "execution_count": 13,
   "metadata": {},
   "outputs": [],
   "source": [
    "import pandas as pd\n",
    "from datetime import timedelta\n",
    "\n",
    "# 读取前100行（仅测试）\n",
    "moreDate_data = pd.read_csv(\"./combined_results_deduplicated_triangle.csv\", engine=\"python\")\n",
    "\n",
    "# 转换 Date 列为 datetime 类型\n",
    "moreDate_data['Date'] = pd.to_datetime(moreDate_data['Date'])\n",
    "\n",
    "# 使用原始 Time 列（注意：它可能是字符串，需要转为时间类型）\n",
    "moreDate_data['Time'] = pd.to_datetime(moreDate_data['Time'], format=\"%H:%M:%S\").dt.time\n",
    "\n",
    "# 提取周几\n",
    "moreDate_data['Weekday'] = moreDate_data['Date'].dt.weekday  # 0=Monday, ..., 6=Sunday\n",
    "\n",
    "# 聚合：按 Site_ID、Weekday 和 Time（分钟粒度）计算平均值\n",
    "agg_df = (\n",
    "    moreDate_data\n",
    "    .groupby(['Site_ID', 'Weekday', 'Time', 'Bound_Category'])['MeltedValue']\n",
    "    .mean()\n",
    "    .reset_index()\n",
    ")\n",
    "\n",
    "# 用 Weekday 和 Time 创建对齐时间（统一设定在 2023 年第一周）\n",
    "first_monday_2023 = pd.to_datetime(\"2023-01-02\")\n",
    "\n",
    "agg_df['Aligned_Datetime'] = agg_df.apply(\n",
    "    lambda row: pd.Timestamp(first_monday_2023 + timedelta(days=row['Weekday']))\n",
    "                .replace(hour=row['Time'].hour, minute=row['Time'].minute),\n",
    "    axis=1\n",
    ")\n",
    "\n",
    "# 添加排序辅助列\n",
    "agg_df['Time_Duration'] = pd.to_timedelta(agg_df['Time'].astype(str))\n",
    "\n",
    "# 最终排序并展示\n",
    "agg_df = agg_df.sort_values(by=['Site_ID', 'Weekday', 'Time_Duration'])\n",
    "agg_df = agg_df[['Site_ID', 'Weekday', 'Time', 'Aligned_Datetime', 'Bound_Category', 'MeltedValue']]"
   ]
  },
  {
   "cell_type": "code",
   "execution_count": 11,
   "metadata": {},
   "outputs": [
    {
     "data": {
      "application/vnd.microsoft.datawrangler.viewer.v0+json": {
       "columns": [
        {
         "name": "index",
         "rawType": "int64",
         "type": "integer"
        },
        {
         "name": "Site_ID",
         "rawType": "int64",
         "type": "integer"
        },
        {
         "name": "Weekday",
         "rawType": "int32",
         "type": "integer"
        },
        {
         "name": "Time",
         "rawType": "object",
         "type": "unknown"
        },
        {
         "name": "Aligned_Datetime",
         "rawType": "datetime64[ns]",
         "type": "datetime"
        },
        {
         "name": "Bound_Category",
         "rawType": "object",
         "type": "string"
        },
        {
         "name": "MeltedValue",
         "rawType": "float64",
         "type": "float"
        }
       ],
       "conversionMethod": "pd.DataFrame",
       "ref": "e9c40534-896f-4c34-9783-3d992efde650",
       "rows": [
        [
         "0",
         "10183",
         "0",
         "00:00:00",
         "2023-01-02 00:00:00",
         "All Northbound",
         "0.8058252427184466"
        ],
        [
         "1",
         "10183",
         "0",
         "00:00:00",
         "2023-01-02 00:00:00",
         "All Southbound",
         "1.1553398058252426"
        ],
        [
         "2",
         "10183",
         "0",
         "00:15:00",
         "2023-01-02 00:15:00",
         "All Northbound",
         "0.8737864077669902"
        ],
        [
         "3",
         "10183",
         "0",
         "00:15:00",
         "2023-01-02 00:15:00",
         "All Southbound",
         "0.970873786407767"
        ],
        [
         "4",
         "10183",
         "0",
         "00:30:00",
         "2023-01-02 00:30:00",
         "All Northbound",
         "0.6796116504854369"
        ],
        [
         "5",
         "10183",
         "0",
         "00:30:00",
         "2023-01-02 00:30:00",
         "All Southbound",
         "0.8349514563106796"
        ],
        [
         "6",
         "10183",
         "0",
         "00:45:00",
         "2023-01-02 00:45:00",
         "All Northbound",
         "0.9805825242718447"
        ],
        [
         "7",
         "10183",
         "0",
         "00:45:00",
         "2023-01-02 00:45:00",
         "All Southbound",
         "0.7378640776699029"
        ],
        [
         "8",
         "10183",
         "0",
         "01:00:00",
         "2023-01-02 01:00:00",
         "All Northbound",
         "0.7087378640776699"
        ],
        [
         "9",
         "10183",
         "0",
         "01:00:00",
         "2023-01-02 01:00:00",
         "All Southbound",
         "0.7572815533980582"
        ],
        [
         "10",
         "10183",
         "0",
         "01:15:00",
         "2023-01-02 01:15:00",
         "All Northbound",
         "0.6213592233009708"
        ],
        [
         "11",
         "10183",
         "0",
         "01:15:00",
         "2023-01-02 01:15:00",
         "All Southbound",
         "0.3786407766990291"
        ],
        [
         "12",
         "10183",
         "0",
         "01:30:00",
         "2023-01-02 01:30:00",
         "All Northbound",
         "0.5339805825242718"
        ],
        [
         "13",
         "10183",
         "0",
         "01:30:00",
         "2023-01-02 01:30:00",
         "All Southbound",
         "0.5339805825242718"
        ],
        [
         "14",
         "10183",
         "0",
         "01:45:00",
         "2023-01-02 01:45:00",
         "All Northbound",
         "0.6699029126213593"
        ],
        [
         "15",
         "10183",
         "0",
         "01:45:00",
         "2023-01-02 01:45:00",
         "All Southbound",
         "0.5339805825242718"
        ],
        [
         "16",
         "10183",
         "0",
         "02:00:00",
         "2023-01-02 02:00:00",
         "All Northbound",
         "0.6893203883495146"
        ],
        [
         "17",
         "10183",
         "0",
         "02:00:00",
         "2023-01-02 02:00:00",
         "All Southbound",
         "0.46601941747572817"
        ],
        [
         "18",
         "10183",
         "0",
         "02:15:00",
         "2023-01-02 02:15:00",
         "All Northbound",
         "0.7184466019417476"
        ],
        [
         "19",
         "10183",
         "0",
         "02:15:00",
         "2023-01-02 02:15:00",
         "All Southbound",
         "0.3106796116504854"
        ],
        [
         "20",
         "10183",
         "0",
         "02:30:00",
         "2023-01-02 02:30:00",
         "All Northbound",
         "0.5436893203883495"
        ],
        [
         "21",
         "10183",
         "0",
         "02:30:00",
         "2023-01-02 02:30:00",
         "All Southbound",
         "0.5436893203883495"
        ],
        [
         "22",
         "10183",
         "0",
         "02:45:00",
         "2023-01-02 02:45:00",
         "All Northbound",
         "0.7184466019417476"
        ],
        [
         "23",
         "10183",
         "0",
         "02:45:00",
         "2023-01-02 02:45:00",
         "All Southbound",
         "0.6116504854368932"
        ],
        [
         "24",
         "10183",
         "0",
         "03:00:00",
         "2023-01-02 03:00:00",
         "All Northbound",
         "0.7961165048543689"
        ],
        [
         "25",
         "10183",
         "0",
         "03:00:00",
         "2023-01-02 03:00:00",
         "All Southbound",
         "0.8446601941747572"
        ],
        [
         "26",
         "10183",
         "0",
         "03:15:00",
         "2023-01-02 03:15:00",
         "All Northbound",
         "1.087378640776699"
        ],
        [
         "27",
         "10183",
         "0",
         "03:15:00",
         "2023-01-02 03:15:00",
         "All Southbound",
         "1.8155339805825244"
        ],
        [
         "28",
         "10183",
         "0",
         "03:30:00",
         "2023-01-02 03:30:00",
         "All Northbound",
         "0.9223300970873787"
        ],
        [
         "29",
         "10183",
         "0",
         "03:30:00",
         "2023-01-02 03:30:00",
         "All Southbound",
         "1.2524271844660195"
        ],
        [
         "30",
         "10183",
         "0",
         "03:45:00",
         "2023-01-02 03:45:00",
         "All Northbound",
         "1.0"
        ],
        [
         "31",
         "10183",
         "0",
         "03:45:00",
         "2023-01-02 03:45:00",
         "All Southbound",
         "0.7572815533980582"
        ],
        [
         "32",
         "10183",
         "0",
         "04:00:00",
         "2023-01-02 04:00:00",
         "All Northbound",
         "1.1941747572815533"
        ],
        [
         "33",
         "10183",
         "0",
         "04:00:00",
         "2023-01-02 04:00:00",
         "All Southbound",
         "0.9805825242718447"
        ],
        [
         "34",
         "10183",
         "0",
         "04:15:00",
         "2023-01-02 04:15:00",
         "All Northbound",
         "2.466019417475728"
        ],
        [
         "35",
         "10183",
         "0",
         "04:15:00",
         "2023-01-02 04:15:00",
         "All Southbound",
         "1.203883495145631"
        ],
        [
         "36",
         "10183",
         "0",
         "04:30:00",
         "2023-01-02 04:30:00",
         "All Northbound",
         "2.796116504854369"
        ],
        [
         "37",
         "10183",
         "0",
         "04:30:00",
         "2023-01-02 04:30:00",
         "All Southbound",
         "1.5533980582524272"
        ],
        [
         "38",
         "10183",
         "0",
         "04:45:00",
         "2023-01-02 04:45:00",
         "All Northbound",
         "4.407766990291262"
        ],
        [
         "39",
         "10183",
         "0",
         "04:45:00",
         "2023-01-02 04:45:00",
         "All Southbound",
         "2.174757281553398"
        ],
        [
         "40",
         "10183",
         "0",
         "05:00:00",
         "2023-01-02 05:00:00",
         "All Northbound",
         "4.776699029126213"
        ],
        [
         "41",
         "10183",
         "0",
         "05:00:00",
         "2023-01-02 05:00:00",
         "All Southbound",
         "2.650485436893204"
        ],
        [
         "42",
         "10183",
         "0",
         "05:15:00",
         "2023-01-02 05:15:00",
         "All Northbound",
         "5.446601941747573"
        ],
        [
         "43",
         "10183",
         "0",
         "05:15:00",
         "2023-01-02 05:15:00",
         "All Southbound",
         "3.378640776699029"
        ],
        [
         "44",
         "10183",
         "0",
         "05:30:00",
         "2023-01-02 05:30:00",
         "All Northbound",
         "7.067961165048544"
        ],
        [
         "45",
         "10183",
         "0",
         "05:30:00",
         "2023-01-02 05:30:00",
         "All Southbound",
         "3.5242718446601944"
        ],
        [
         "46",
         "10183",
         "0",
         "05:45:00",
         "2023-01-02 05:45:00",
         "All Northbound",
         "6.902912621359223"
        ],
        [
         "47",
         "10183",
         "0",
         "05:45:00",
         "2023-01-02 05:45:00",
         "All Southbound",
         "5.58252427184466"
        ],
        [
         "48",
         "10183",
         "0",
         "06:00:00",
         "2023-01-02 06:00:00",
         "All Northbound",
         "8.25242718446602"
        ],
        [
         "49",
         "10183",
         "0",
         "06:00:00",
         "2023-01-02 06:00:00",
         "All Southbound",
         "6.912621359223301"
        ]
       ],
       "shape": {
        "columns": 6,
        "rows": 306336
       }
      },
      "text/html": [
       "<div>\n",
       "<style scoped>\n",
       "    .dataframe tbody tr th:only-of-type {\n",
       "        vertical-align: middle;\n",
       "    }\n",
       "\n",
       "    .dataframe tbody tr th {\n",
       "        vertical-align: top;\n",
       "    }\n",
       "\n",
       "    .dataframe thead th {\n",
       "        text-align: right;\n",
       "    }\n",
       "</style>\n",
       "<table border=\"1\" class=\"dataframe\">\n",
       "  <thead>\n",
       "    <tr style=\"text-align: right;\">\n",
       "      <th></th>\n",
       "      <th>Site_ID</th>\n",
       "      <th>Weekday</th>\n",
       "      <th>Time</th>\n",
       "      <th>Aligned_Datetime</th>\n",
       "      <th>Bound_Category</th>\n",
       "      <th>MeltedValue</th>\n",
       "    </tr>\n",
       "  </thead>\n",
       "  <tbody>\n",
       "    <tr>\n",
       "      <th>0</th>\n",
       "      <td>10183</td>\n",
       "      <td>0</td>\n",
       "      <td>00:00:00</td>\n",
       "      <td>2023-01-02 00:00:00</td>\n",
       "      <td>All Northbound</td>\n",
       "      <td>0.805825</td>\n",
       "    </tr>\n",
       "    <tr>\n",
       "      <th>1</th>\n",
       "      <td>10183</td>\n",
       "      <td>0</td>\n",
       "      <td>00:00:00</td>\n",
       "      <td>2023-01-02 00:00:00</td>\n",
       "      <td>All Southbound</td>\n",
       "      <td>1.155340</td>\n",
       "    </tr>\n",
       "    <tr>\n",
       "      <th>2</th>\n",
       "      <td>10183</td>\n",
       "      <td>0</td>\n",
       "      <td>00:15:00</td>\n",
       "      <td>2023-01-02 00:15:00</td>\n",
       "      <td>All Northbound</td>\n",
       "      <td>0.873786</td>\n",
       "    </tr>\n",
       "    <tr>\n",
       "      <th>3</th>\n",
       "      <td>10183</td>\n",
       "      <td>0</td>\n",
       "      <td>00:15:00</td>\n",
       "      <td>2023-01-02 00:15:00</td>\n",
       "      <td>All Southbound</td>\n",
       "      <td>0.970874</td>\n",
       "    </tr>\n",
       "    <tr>\n",
       "      <th>4</th>\n",
       "      <td>10183</td>\n",
       "      <td>0</td>\n",
       "      <td>00:30:00</td>\n",
       "      <td>2023-01-02 00:30:00</td>\n",
       "      <td>All Northbound</td>\n",
       "      <td>0.679612</td>\n",
       "    </tr>\n",
       "    <tr>\n",
       "      <th>...</th>\n",
       "      <td>...</td>\n",
       "      <td>...</td>\n",
       "      <td>...</td>\n",
       "      <td>...</td>\n",
       "      <td>...</td>\n",
       "      <td>...</td>\n",
       "    </tr>\n",
       "    <tr>\n",
       "      <th>306331</th>\n",
       "      <td>3130101</td>\n",
       "      <td>6</td>\n",
       "      <td>23:15:00</td>\n",
       "      <td>2023-01-08 23:15:00</td>\n",
       "      <td>All Southbound</td>\n",
       "      <td>187.392857</td>\n",
       "    </tr>\n",
       "    <tr>\n",
       "      <th>306332</th>\n",
       "      <td>3130101</td>\n",
       "      <td>6</td>\n",
       "      <td>23:30:00</td>\n",
       "      <td>2023-01-08 23:30:00</td>\n",
       "      <td>All Northbound</td>\n",
       "      <td>160.696429</td>\n",
       "    </tr>\n",
       "    <tr>\n",
       "      <th>306333</th>\n",
       "      <td>3130101</td>\n",
       "      <td>6</td>\n",
       "      <td>23:30:00</td>\n",
       "      <td>2023-01-08 23:30:00</td>\n",
       "      <td>All Southbound</td>\n",
       "      <td>171.517857</td>\n",
       "    </tr>\n",
       "    <tr>\n",
       "      <th>306334</th>\n",
       "      <td>3130101</td>\n",
       "      <td>6</td>\n",
       "      <td>23:45:00</td>\n",
       "      <td>2023-01-08 23:45:00</td>\n",
       "      <td>All Northbound</td>\n",
       "      <td>148.580357</td>\n",
       "    </tr>\n",
       "    <tr>\n",
       "      <th>306335</th>\n",
       "      <td>3130101</td>\n",
       "      <td>6</td>\n",
       "      <td>23:45:00</td>\n",
       "      <td>2023-01-08 23:45:00</td>\n",
       "      <td>All Southbound</td>\n",
       "      <td>158.473214</td>\n",
       "    </tr>\n",
       "  </tbody>\n",
       "</table>\n",
       "<p>306336 rows × 6 columns</p>\n",
       "</div>"
      ],
      "text/plain": [
       "        Site_ID  Weekday      Time    Aligned_Datetime  Bound_Category  \\\n",
       "0         10183        0  00:00:00 2023-01-02 00:00:00  All Northbound   \n",
       "1         10183        0  00:00:00 2023-01-02 00:00:00  All Southbound   \n",
       "2         10183        0  00:15:00 2023-01-02 00:15:00  All Northbound   \n",
       "3         10183        0  00:15:00 2023-01-02 00:15:00  All Southbound   \n",
       "4         10183        0  00:30:00 2023-01-02 00:30:00  All Northbound   \n",
       "...         ...      ...       ...                 ...             ...   \n",
       "306331  3130101        6  23:15:00 2023-01-08 23:15:00  All Southbound   \n",
       "306332  3130101        6  23:30:00 2023-01-08 23:30:00  All Northbound   \n",
       "306333  3130101        6  23:30:00 2023-01-08 23:30:00  All Southbound   \n",
       "306334  3130101        6  23:45:00 2023-01-08 23:45:00  All Northbound   \n",
       "306335  3130101        6  23:45:00 2023-01-08 23:45:00  All Southbound   \n",
       "\n",
       "        MeltedValue  \n",
       "0          0.805825  \n",
       "1          1.155340  \n",
       "2          0.873786  \n",
       "3          0.970874  \n",
       "4          0.679612  \n",
       "...             ...  \n",
       "306331   187.392857  \n",
       "306332   160.696429  \n",
       "306333   171.517857  \n",
       "306334   148.580357  \n",
       "306335   158.473214  \n",
       "\n",
       "[306336 rows x 6 columns]"
      ]
     },
     "execution_count": 11,
     "metadata": {},
     "output_type": "execute_result"
    }
   ],
   "source": [
    "agg_df"
   ]
  },
  {
   "cell_type": "code",
   "execution_count": 4,
   "metadata": {},
   "outputs": [],
   "source": [
    "agg_df.to_csv('mean_processed_triangle.csv', index=False)"
   ]
  },
  {
   "cell_type": "markdown",
   "metadata": {},
   "source": [
    "# 基本上连续记录的数据"
   ]
  },
  {
   "cell_type": "code",
   "execution_count": 4,
   "metadata": {},
   "outputs": [
    {
     "data": {
      "application/vnd.microsoft.datawrangler.viewer.v0+json": {
       "columns": [
        {
         "name": "index",
         "rawType": "int64",
         "type": "integer"
        },
        {
         "name": "Site_ID",
         "rawType": "int64",
         "type": "integer"
        },
        {
         "name": "Bound_Category",
         "rawType": "object",
         "type": "string"
        },
        {
         "name": "Time",
         "rawType": "object",
         "type": "string"
        },
        {
         "name": "Date",
         "rawType": "object",
         "type": "string"
        },
        {
         "name": "MeltedValue",
         "rawType": "float64",
         "type": "float"
        }
       ],
       "conversionMethod": "pd.DataFrame",
       "ref": "471341cc-12e5-44d8-81f4-5db1ff720a60",
       "rows": [
        [
         "0",
         "1215468",
         "All Northbound",
         "00:00:00",
         "2023-05-01",
         "1063.0"
        ],
        [
         "1",
         "1215468",
         "All Northbound",
         "00:15:00",
         "2023-05-01",
         "936.0"
        ],
        [
         "2",
         "1215468",
         "All Northbound",
         "00:30:00",
         "2023-05-01",
         "728.0"
        ],
        [
         "3",
         "1215468",
         "All Northbound",
         "00:45:00",
         "2023-05-01",
         "749.0"
        ],
        [
         "4",
         "1215468",
         "All Northbound",
         "01:00:00",
         "2023-05-01",
         "661.0"
        ]
       ],
       "shape": {
        "columns": 5,
        "rows": 5
       }
      },
      "text/html": [
       "<div>\n",
       "<style scoped>\n",
       "    .dataframe tbody tr th:only-of-type {\n",
       "        vertical-align: middle;\n",
       "    }\n",
       "\n",
       "    .dataframe tbody tr th {\n",
       "        vertical-align: top;\n",
       "    }\n",
       "\n",
       "    .dataframe thead th {\n",
       "        text-align: right;\n",
       "    }\n",
       "</style>\n",
       "<table border=\"1\" class=\"dataframe\">\n",
       "  <thead>\n",
       "    <tr style=\"text-align: right;\">\n",
       "      <th></th>\n",
       "      <th>Site_ID</th>\n",
       "      <th>Bound_Category</th>\n",
       "      <th>Time</th>\n",
       "      <th>Date</th>\n",
       "      <th>MeltedValue</th>\n",
       "    </tr>\n",
       "  </thead>\n",
       "  <tbody>\n",
       "    <tr>\n",
       "      <th>0</th>\n",
       "      <td>1215468</td>\n",
       "      <td>All Northbound</td>\n",
       "      <td>00:00:00</td>\n",
       "      <td>2023-05-01</td>\n",
       "      <td>1063.0</td>\n",
       "    </tr>\n",
       "    <tr>\n",
       "      <th>1</th>\n",
       "      <td>1215468</td>\n",
       "      <td>All Northbound</td>\n",
       "      <td>00:15:00</td>\n",
       "      <td>2023-05-01</td>\n",
       "      <td>936.0</td>\n",
       "    </tr>\n",
       "    <tr>\n",
       "      <th>2</th>\n",
       "      <td>1215468</td>\n",
       "      <td>All Northbound</td>\n",
       "      <td>00:30:00</td>\n",
       "      <td>2023-05-01</td>\n",
       "      <td>728.0</td>\n",
       "    </tr>\n",
       "    <tr>\n",
       "      <th>3</th>\n",
       "      <td>1215468</td>\n",
       "      <td>All Northbound</td>\n",
       "      <td>00:45:00</td>\n",
       "      <td>2023-05-01</td>\n",
       "      <td>749.0</td>\n",
       "    </tr>\n",
       "    <tr>\n",
       "      <th>4</th>\n",
       "      <td>1215468</td>\n",
       "      <td>All Northbound</td>\n",
       "      <td>01:00:00</td>\n",
       "      <td>2023-05-01</td>\n",
       "      <td>661.0</td>\n",
       "    </tr>\n",
       "  </tbody>\n",
       "</table>\n",
       "</div>"
      ],
      "text/plain": [
       "   Site_ID  Bound_Category      Time        Date  MeltedValue\n",
       "0  1215468  All Northbound  00:00:00  2023-05-01       1063.0\n",
       "1  1215468  All Northbound  00:15:00  2023-05-01        936.0\n",
       "2  1215468  All Northbound  00:30:00  2023-05-01        728.0\n",
       "3  1215468  All Northbound  00:45:00  2023-05-01        749.0\n",
       "4  1215468  All Northbound  01:00:00  2023-05-01        661.0"
      ]
     },
     "execution_count": 4,
     "metadata": {},
     "output_type": "execute_result"
    }
   ],
   "source": [
    "moreDate_data.head()"
   ]
  },
  {
   "cell_type": "code",
   "execution_count": 9,
   "metadata": {},
   "outputs": [
    {
     "name": "stdout",
     "output_type": "stream",
     "text": [
      "两个 DataFrame 共有的重复行：\n",
      "Empty DataFrame\n",
      "Columns: [Site_ID, Bound_Category, Time, Date, MeltedValue]\n",
      "Index: []\n"
     ]
    }
   ],
   "source": [
    "import pandas as pd\n",
    "\n",
    "# 找出两个 DataFrame 中完全相同的重复行\n",
    "common_rows = pd.merge(threeDate_data_oneBound, threeDate_data_multipleBound, how='inner')\n",
    "\n",
    "print(\"两个 DataFrame 共有的重复行：\")\n",
    "print(common_rows)\n"
   ]
  },
  {
   "cell_type": "markdown",
   "metadata": {},
   "source": [
    "# 每年记三天且不止记了一个方向的数据"
   ]
  },
  {
   "cell_type": "code",
   "execution_count": 1,
   "metadata": {},
   "outputs": [],
   "source": [
    "import pandas as pd\n",
    "threeDate_data_multipleBound = pd.read_csv(\"./combined_results_bluedot.csv\")"
   ]
  },
  {
   "cell_type": "code",
   "execution_count": 2,
   "metadata": {},
   "outputs": [
    {
     "data": {
      "application/vnd.microsoft.datawrangler.viewer.v0+json": {
       "columns": [
        {
         "name": "index",
         "rawType": "int64",
         "type": "integer"
        },
        {
         "name": "Site_ID",
         "rawType": "object",
         "type": "string"
        },
        {
         "name": "Bound_Category",
         "rawType": "object",
         "type": "string"
        },
        {
         "name": "Time",
         "rawType": "object",
         "type": "string"
        },
        {
         "name": "Date",
         "rawType": "object",
         "type": "string"
        },
        {
         "name": "MeltedValue",
         "rawType": "float64",
         "type": "float"
        }
       ],
       "conversionMethod": "pd.DataFrame",
       "ref": "5d9b5fbd-7c20-4eb9-a8bc-a1e4a1c74791",
       "rows": [
        [
         "0",
         "0000261_0154",
         "All Northbound",
         "00:00:00",
         "2023-07-11",
         null
        ],
        [
         "1",
         "0000261_0154",
         "All Northbound",
         "00:15:00",
         "2023-07-11",
         null
        ],
        [
         "2",
         "0000261_0154",
         "All Northbound",
         "00:30:00",
         "2023-07-11",
         null
        ],
        [
         "3",
         "0000261_0154",
         "All Northbound",
         "00:45:00",
         "2023-07-11",
         null
        ],
        [
         "4",
         "0000261_0154",
         "All Northbound",
         "01:00:00",
         "2023-07-11",
         null
        ]
       ],
       "shape": {
        "columns": 5,
        "rows": 5
       }
      },
      "text/html": [
       "<div>\n",
       "<style scoped>\n",
       "    .dataframe tbody tr th:only-of-type {\n",
       "        vertical-align: middle;\n",
       "    }\n",
       "\n",
       "    .dataframe tbody tr th {\n",
       "        vertical-align: top;\n",
       "    }\n",
       "\n",
       "    .dataframe thead th {\n",
       "        text-align: right;\n",
       "    }\n",
       "</style>\n",
       "<table border=\"1\" class=\"dataframe\">\n",
       "  <thead>\n",
       "    <tr style=\"text-align: right;\">\n",
       "      <th></th>\n",
       "      <th>Site_ID</th>\n",
       "      <th>Bound_Category</th>\n",
       "      <th>Time</th>\n",
       "      <th>Date</th>\n",
       "      <th>MeltedValue</th>\n",
       "    </tr>\n",
       "  </thead>\n",
       "  <tbody>\n",
       "    <tr>\n",
       "      <th>0</th>\n",
       "      <td>0000261_0154</td>\n",
       "      <td>All Northbound</td>\n",
       "      <td>00:00:00</td>\n",
       "      <td>2023-07-11</td>\n",
       "      <td>NaN</td>\n",
       "    </tr>\n",
       "    <tr>\n",
       "      <th>1</th>\n",
       "      <td>0000261_0154</td>\n",
       "      <td>All Northbound</td>\n",
       "      <td>00:15:00</td>\n",
       "      <td>2023-07-11</td>\n",
       "      <td>NaN</td>\n",
       "    </tr>\n",
       "    <tr>\n",
       "      <th>2</th>\n",
       "      <td>0000261_0154</td>\n",
       "      <td>All Northbound</td>\n",
       "      <td>00:30:00</td>\n",
       "      <td>2023-07-11</td>\n",
       "      <td>NaN</td>\n",
       "    </tr>\n",
       "    <tr>\n",
       "      <th>3</th>\n",
       "      <td>0000261_0154</td>\n",
       "      <td>All Northbound</td>\n",
       "      <td>00:45:00</td>\n",
       "      <td>2023-07-11</td>\n",
       "      <td>NaN</td>\n",
       "    </tr>\n",
       "    <tr>\n",
       "      <th>4</th>\n",
       "      <td>0000261_0154</td>\n",
       "      <td>All Northbound</td>\n",
       "      <td>01:00:00</td>\n",
       "      <td>2023-07-11</td>\n",
       "      <td>NaN</td>\n",
       "    </tr>\n",
       "  </tbody>\n",
       "</table>\n",
       "</div>"
      ],
      "text/plain": [
       "        Site_ID  Bound_Category      Time        Date  MeltedValue\n",
       "0  0000261_0154  All Northbound  00:00:00  2023-07-11          NaN\n",
       "1  0000261_0154  All Northbound  00:15:00  2023-07-11          NaN\n",
       "2  0000261_0154  All Northbound  00:30:00  2023-07-11          NaN\n",
       "3  0000261_0154  All Northbound  00:45:00  2023-07-11          NaN\n",
       "4  0000261_0154  All Northbound  01:00:00  2023-07-11          NaN"
      ]
     },
     "execution_count": 2,
     "metadata": {},
     "output_type": "execute_result"
    }
   ],
   "source": [
    "threeDate_data_multipleBound.head()"
   ]
  },
  {
   "cell_type": "code",
   "execution_count": null,
   "metadata": {},
   "outputs": [],
   "source": [
    "threeDate_data_multipleBound.head()"
   ]
  },
  {
   "cell_type": "code",
   "execution_count": 6,
   "metadata": {},
   "outputs": [],
   "source": [
    "import pandas as pd\n",
    "\n",
    "# 假设数据叫 df\n",
    "df = threeDate_data_multipleBound.copy()\n",
    "\n",
    "# 转换日期类型\n",
    "df['Date'] = pd.to_datetime(df['Date'])\n",
    "\n",
    "# 提取年份和星期几\n",
    "df['Year'] = df['Date'].dt.year\n",
    "df['Weekday'] = df['Date'].dt.day_name()\n",
    "\n",
    "# 按 Site_ID 和 Year 分组，计算唯一 weekday 数量\n",
    "weekday_counts = df.groupby(['Site_ID', 'Year'])['Weekday'].nunique().reset_index()\n",
    "\n",
    "# 过滤出 weekday 不满 7 天的记录（即不完整的记录）\n",
    "incomplete_sites = weekday_counts[weekday_counts['Weekday'] < 7]"
   ]
  },
  {
   "cell_type": "code",
   "execution_count": 8,
   "metadata": {},
   "outputs": [
    {
     "data": {
      "application/vnd.microsoft.datawrangler.viewer.v0+json": {
       "columns": [
        {
         "name": "index",
         "rawType": "int64",
         "type": "integer"
        },
        {
         "name": "Site_ID",
         "rawType": "object",
         "type": "string"
        },
        {
         "name": "Year",
         "rawType": "int32",
         "type": "integer"
        },
        {
         "name": "Weekday",
         "rawType": "int64",
         "type": "integer"
        }
       ],
       "conversionMethod": "pd.DataFrame",
       "ref": "222d5943-e001-4cdc-9a05-08c157a5bc46",
       "rows": [
        [
         "0",
         "0000001_0105",
         "2024",
         "3"
        ],
        [
         "1",
         "0000001_0107",
         "2024",
         "3"
        ],
        [
         "2",
         "0000001_0109",
         "2023",
         "3"
        ],
        [
         "3",
         "0000001_0112",
         "2024",
         "3"
        ],
        [
         "4",
         "0000001_0114",
         "2024",
         "3"
        ],
        [
         "5",
         "0000001_0127",
         "2024",
         "3"
        ],
        [
         "6",
         "0000001_0132",
         "2024",
         "3"
        ],
        [
         "7",
         "0000001_0141",
         "2024",
         "3"
        ],
        [
         "8",
         "0000001_0143",
         "2024",
         "3"
        ],
        [
         "9",
         "0000001_0145",
         "2024",
         "3"
        ],
        [
         "10",
         "0000001_0156",
         "2024",
         "3"
        ],
        [
         "11",
         "0000001_0161",
         "2024",
         "3"
        ],
        [
         "12",
         "0000001_0169",
         "2024",
         "3"
        ],
        [
         "13",
         "0000001_0172",
         "2024",
         "3"
        ],
        [
         "14",
         "0000001_0187",
         "2024",
         "3"
        ],
        [
         "15",
         "0000001_0194",
         "2024",
         "3"
        ],
        [
         "16",
         "0000001_0209",
         "2024",
         "3"
        ],
        [
         "17",
         "0000001_0221",
         "2023",
         "3"
        ],
        [
         "18",
         "0000001_0225",
         "2024",
         "3"
        ],
        [
         "19",
         "0000001_0234",
         "2024",
         "3"
        ],
        [
         "20",
         "0000001_0236",
         "2024",
         "3"
        ],
        [
         "21",
         "0000001_0238",
         "2024",
         "3"
        ],
        [
         "22",
         "0000001_8031",
         "2023",
         "3"
        ],
        [
         "23",
         "0000001_8045",
         "2023",
         "3"
        ],
        [
         "24",
         "0000001_8049",
         "2024",
         "3"
        ],
        [
         "25",
         "0000001_8050",
         "2023",
         "3"
        ],
        [
         "26",
         "0000001_8050",
         "2024",
         "3"
        ],
        [
         "27",
         "0000001_8056",
         "2024",
         "3"
        ],
        [
         "28",
         "0000001_8061",
         "2023",
         "3"
        ],
        [
         "29",
         "0000001_8062",
         "2023",
         "3"
        ],
        [
         "30",
         "0000001_8063",
         "2023",
         "3"
        ],
        [
         "31",
         "0000001_8064",
         "2023",
         "3"
        ],
        [
         "32",
         "0000001_8066",
         "2023",
         "3"
        ],
        [
         "33",
         "0000003_0101",
         "2024",
         "3"
        ],
        [
         "34",
         "0000003_0105",
         "2024",
         "3"
        ],
        [
         "35",
         "0000003_0109",
         "2024",
         "3"
        ],
        [
         "36",
         "0000003_0112",
         "2024",
         "3"
        ],
        [
         "37",
         "0000003_0114",
         "2024",
         "3"
        ],
        [
         "38",
         "0000003_0118",
         "2024",
         "3"
        ],
        [
         "39",
         "0000003_0121",
         "2024",
         "3"
        ],
        [
         "40",
         "0000003_0123",
         "2024",
         "3"
        ],
        [
         "41",
         "0000003_0145",
         "2024",
         "3"
        ],
        [
         "42",
         "0000003_0147",
         "2024",
         "3"
        ],
        [
         "43",
         "0000003_0154",
         "2024",
         "3"
        ],
        [
         "44",
         "0000003_0158",
         "2024",
         "3"
        ],
        [
         "45",
         "0000003_0165",
         "2024",
         "3"
        ],
        [
         "46",
         "0000003_0167",
         "2024",
         "3"
        ],
        [
         "47",
         "0000003_0189",
         "2024",
         "3"
        ],
        [
         "48",
         "0000003_0194",
         "2024",
         "3"
        ],
        [
         "49",
         "0000003_0196",
         "2024",
         "3"
        ]
       ],
       "shape": {
        "columns": 3,
        "rows": 9122
       }
      },
      "text/html": [
       "<div>\n",
       "<style scoped>\n",
       "    .dataframe tbody tr th:only-of-type {\n",
       "        vertical-align: middle;\n",
       "    }\n",
       "\n",
       "    .dataframe tbody tr th {\n",
       "        vertical-align: top;\n",
       "    }\n",
       "\n",
       "    .dataframe thead th {\n",
       "        text-align: right;\n",
       "    }\n",
       "</style>\n",
       "<table border=\"1\" class=\"dataframe\">\n",
       "  <thead>\n",
       "    <tr style=\"text-align: right;\">\n",
       "      <th></th>\n",
       "      <th>Site_ID</th>\n",
       "      <th>Year</th>\n",
       "      <th>Weekday</th>\n",
       "    </tr>\n",
       "  </thead>\n",
       "  <tbody>\n",
       "    <tr>\n",
       "      <th>0</th>\n",
       "      <td>0000001_0105</td>\n",
       "      <td>2024</td>\n",
       "      <td>3</td>\n",
       "    </tr>\n",
       "    <tr>\n",
       "      <th>1</th>\n",
       "      <td>0000001_0107</td>\n",
       "      <td>2024</td>\n",
       "      <td>3</td>\n",
       "    </tr>\n",
       "    <tr>\n",
       "      <th>2</th>\n",
       "      <td>0000001_0109</td>\n",
       "      <td>2023</td>\n",
       "      <td>3</td>\n",
       "    </tr>\n",
       "    <tr>\n",
       "      <th>3</th>\n",
       "      <td>0000001_0112</td>\n",
       "      <td>2024</td>\n",
       "      <td>3</td>\n",
       "    </tr>\n",
       "    <tr>\n",
       "      <th>4</th>\n",
       "      <td>0000001_0114</td>\n",
       "      <td>2024</td>\n",
       "      <td>3</td>\n",
       "    </tr>\n",
       "    <tr>\n",
       "      <th>...</th>\n",
       "      <td>...</td>\n",
       "      <td>...</td>\n",
       "      <td>...</td>\n",
       "    </tr>\n",
       "    <tr>\n",
       "      <th>9118</th>\n",
       "      <td>0000321_8102</td>\n",
       "      <td>2024</td>\n",
       "      <td>3</td>\n",
       "    </tr>\n",
       "    <tr>\n",
       "      <th>9119</th>\n",
       "      <td>0000321_8108</td>\n",
       "      <td>2024</td>\n",
       "      <td>3</td>\n",
       "    </tr>\n",
       "    <tr>\n",
       "      <th>9120</th>\n",
       "      <td>0000321_8110</td>\n",
       "      <td>2024</td>\n",
       "      <td>3</td>\n",
       "    </tr>\n",
       "    <tr>\n",
       "      <th>9121</th>\n",
       "      <td>0000321_8111</td>\n",
       "      <td>2024</td>\n",
       "      <td>3</td>\n",
       "    </tr>\n",
       "    <tr>\n",
       "      <th>9122</th>\n",
       "      <td>0000321_8113</td>\n",
       "      <td>2024</td>\n",
       "      <td>3</td>\n",
       "    </tr>\n",
       "  </tbody>\n",
       "</table>\n",
       "<p>9122 rows × 3 columns</p>\n",
       "</div>"
      ],
      "text/plain": [
       "           Site_ID  Year  Weekday\n",
       "0     0000001_0105  2024        3\n",
       "1     0000001_0107  2024        3\n",
       "2     0000001_0109  2023        3\n",
       "3     0000001_0112  2024        3\n",
       "4     0000001_0114  2024        3\n",
       "...            ...   ...      ...\n",
       "9118  0000321_8102  2024        3\n",
       "9119  0000321_8108  2024        3\n",
       "9120  0000321_8110  2024        3\n",
       "9121  0000321_8111  2024        3\n",
       "9122  0000321_8113  2024        3\n",
       "\n",
       "[9122 rows x 3 columns]"
      ]
     },
     "execution_count": 8,
     "metadata": {},
     "output_type": "execute_result"
    }
   ],
   "source": [
    "incomplete_sites"
   ]
  },
  {
   "cell_type": "code",
   "execution_count": null,
   "metadata": {},
   "outputs": [
    {
     "name": "stdout",
     "output_type": "stream",
     "text": [
      "       Site_ID  Bound_Category      Time        Date  MeltedValue\n",
      "10176   899611  All Southbound  00:00:00  2023-11-14          NaN\n",
      "10177   899611  All Southbound  00:15:00  2023-11-14          NaN\n",
      "10178   899611  All Southbound  00:30:00  2023-11-14          NaN\n",
      "10179   899611  All Southbound  00:45:00  2023-11-14          NaN\n",
      "10180   899611  All Southbound  01:00:00  2023-11-14          NaN\n",
      "...        ...             ...       ...         ...          ...\n",
      "10271   899611  All Southbound  23:45:00  2023-11-14          NaN\n",
      "10272   899611  All Southbound  00:00:00  2023-11-15          NaN\n",
      "10273   899611  All Southbound  00:15:00  2023-11-15          NaN\n",
      "10274   899611  All Southbound  00:30:00  2023-11-15          NaN\n",
      "10275   899611  All Southbound  00:45:00  2023-11-15          NaN\n",
      "\n",
      "[100 rows x 5 columns]\n"
     ]
    }
   ],
   "source": [
    "# 过滤出MeltedValue缺失的行，打印并检查\n",
    "missing_meltedvalue = moreDate_data[moreDate_data['MeltedValue'].isna()]"
   ]
  },
  {
   "cell_type": "code",
   "execution_count": 10,
   "metadata": {},
   "outputs": [
    {
     "name": "stdout",
     "output_type": "stream",
     "text": [
      "        Site_ID  Bound_Category      Time        Date  MeltedValue\n",
      "10176    899611  All Southbound  00:00:00  2023-11-14          NaN\n",
      "10177    899611  All Southbound  00:15:00  2023-11-14          NaN\n",
      "10178    899611  All Southbound  00:30:00  2023-11-14          NaN\n",
      "10179    899611  All Southbound  00:45:00  2023-11-14          NaN\n",
      "10180    899611  All Southbound  01:00:00  2023-11-14          NaN\n",
      "...         ...             ...       ...         ...          ...\n",
      "101487  1270312  All Northbound  03:45:00  2024-06-24          NaN\n",
      "101488  1270312  All Northbound  04:00:00  2024-06-24          NaN\n",
      "101489  1270312  All Northbound  04:15:00  2024-06-24          NaN\n",
      "101490  1270312  All Northbound  04:30:00  2024-06-24          NaN\n",
      "101491  1270312  All Northbound  04:45:00  2024-06-24          NaN\n",
      "\n",
      "[500 rows x 5 columns]\n"
     ]
    }
   ],
   "source": [
    "# 打印前100行\n",
    "print(missing_meltedvalue.head(500))"
   ]
  },
  {
   "cell_type": "markdown",
   "metadata": {},
   "source": [
    "# 每年记三天且只记了一个方向的数据 这个里面缺的比较多 而且是按照每小时记录的"
   ]
  },
  {
   "cell_type": "code",
   "execution_count": 8,
   "metadata": {},
   "outputs": [],
   "source": [
    "import pandas as pd\n",
    "threeDate_data_oneBound = pd.read_csv(\"./combined_results_failed_bluedot.csv\")"
   ]
  },
  {
   "cell_type": "code",
   "execution_count": 9,
   "metadata": {},
   "outputs": [
    {
     "data": {
      "application/vnd.microsoft.datawrangler.viewer.v0+json": {
       "columns": [
        {
         "name": "index",
         "rawType": "int64",
         "type": "integer"
        },
        {
         "name": "Site_ID",
         "rawType": "object",
         "type": "string"
        },
        {
         "name": "Bound_Category",
         "rawType": "object",
         "type": "string"
        },
        {
         "name": "Time",
         "rawType": "object",
         "type": "string"
        },
        {
         "name": "Date",
         "rawType": "object",
         "type": "string"
        },
        {
         "name": "MeltedValue",
         "rawType": "float64",
         "type": "float"
        }
       ],
       "conversionMethod": "pd.DataFrame",
       "ref": "561f6c8b-1c2c-4015-ba22-448f78d5e525",
       "rows": [
        [
         "0",
         "0000121_R654",
         "All Southbound",
         "00:00:00",
         "2023-02-06",
         null
        ],
        [
         "1",
         "0000121_R654",
         "All Southbound",
         "00:15:00",
         "2023-02-06",
         null
        ],
        [
         "2",
         "0000121_R654",
         "All Southbound",
         "00:30:00",
         "2023-02-06",
         null
        ],
        [
         "3",
         "0000121_R654",
         "All Southbound",
         "00:45:00",
         "2023-02-06",
         null
        ],
        [
         "4",
         "0000121_R654",
         "All Southbound",
         "01:00:00",
         "2023-02-06",
         null
        ]
       ],
       "shape": {
        "columns": 5,
        "rows": 5
       }
      },
      "text/html": [
       "<div>\n",
       "<style scoped>\n",
       "    .dataframe tbody tr th:only-of-type {\n",
       "        vertical-align: middle;\n",
       "    }\n",
       "\n",
       "    .dataframe tbody tr th {\n",
       "        vertical-align: top;\n",
       "    }\n",
       "\n",
       "    .dataframe thead th {\n",
       "        text-align: right;\n",
       "    }\n",
       "</style>\n",
       "<table border=\"1\" class=\"dataframe\">\n",
       "  <thead>\n",
       "    <tr style=\"text-align: right;\">\n",
       "      <th></th>\n",
       "      <th>Site_ID</th>\n",
       "      <th>Bound_Category</th>\n",
       "      <th>Time</th>\n",
       "      <th>Date</th>\n",
       "      <th>MeltedValue</th>\n",
       "    </tr>\n",
       "  </thead>\n",
       "  <tbody>\n",
       "    <tr>\n",
       "      <th>0</th>\n",
       "      <td>0000121_R654</td>\n",
       "      <td>All Southbound</td>\n",
       "      <td>00:00:00</td>\n",
       "      <td>2023-02-06</td>\n",
       "      <td>NaN</td>\n",
       "    </tr>\n",
       "    <tr>\n",
       "      <th>1</th>\n",
       "      <td>0000121_R654</td>\n",
       "      <td>All Southbound</td>\n",
       "      <td>00:15:00</td>\n",
       "      <td>2023-02-06</td>\n",
       "      <td>NaN</td>\n",
       "    </tr>\n",
       "    <tr>\n",
       "      <th>2</th>\n",
       "      <td>0000121_R654</td>\n",
       "      <td>All Southbound</td>\n",
       "      <td>00:30:00</td>\n",
       "      <td>2023-02-06</td>\n",
       "      <td>NaN</td>\n",
       "    </tr>\n",
       "    <tr>\n",
       "      <th>3</th>\n",
       "      <td>0000121_R654</td>\n",
       "      <td>All Southbound</td>\n",
       "      <td>00:45:00</td>\n",
       "      <td>2023-02-06</td>\n",
       "      <td>NaN</td>\n",
       "    </tr>\n",
       "    <tr>\n",
       "      <th>4</th>\n",
       "      <td>0000121_R654</td>\n",
       "      <td>All Southbound</td>\n",
       "      <td>01:00:00</td>\n",
       "      <td>2023-02-06</td>\n",
       "      <td>NaN</td>\n",
       "    </tr>\n",
       "  </tbody>\n",
       "</table>\n",
       "</div>"
      ],
      "text/plain": [
       "        Site_ID  Bound_Category      Time        Date  MeltedValue\n",
       "0  0000121_R654  All Southbound  00:00:00  2023-02-06          NaN\n",
       "1  0000121_R654  All Southbound  00:15:00  2023-02-06          NaN\n",
       "2  0000121_R654  All Southbound  00:30:00  2023-02-06          NaN\n",
       "3  0000121_R654  All Southbound  00:45:00  2023-02-06          NaN\n",
       "4  0000121_R654  All Southbound  01:00:00  2023-02-06          NaN"
      ]
     },
     "execution_count": 9,
     "metadata": {},
     "output_type": "execute_result"
    }
   ],
   "source": [
    "threeDate_data_oneBound.head()"
   ]
  },
  {
   "cell_type": "markdown",
   "metadata": {},
   "source": [
    "# 处理数据代码"
   ]
  },
  {
   "cell_type": "code",
   "execution_count": 10,
   "metadata": {},
   "outputs": [],
   "source": [
    "import pandas as pd\n",
    "\n",
    "def process_dataset(df, id_columns, date_column, time_column, value_column):\n",
    "    \"\"\"\n",
    "    处理任意数据集：\n",
    "    1. 若整点时间有值，则将整点值除以 4，并填充该小时的 15, 30, 45 分钟的数据。\n",
    "    2. 若整点时间无值，则删除该小时的所有数据。\n",
    "    3. 不修改或删除原始 'Date' 和 'Time' 列，而是新增 'Datetime' 进行处理。\n",
    "\n",
    "    参数：\n",
    "    - df: pandas DataFrame\n",
    "    - id_columns: 用于分组的列，如 ['Site_ID', 'Bound_Category']\n",
    "    - date_column: 日期列名称，如 'Date'\n",
    "    - time_column: 时间列名称，如 'Time'\n",
    "    - value_column: 需要填充或删除的列，如 'MeltedValue'\n",
    "    \"\"\"\n",
    "    df = df.copy()\n",
    "\n",
    "    # 确保 'value_column' 是数值型\n",
    "    df[value_column] = pd.to_numeric(df[value_column], errors='coerce')\n",
    "\n",
    "    # 创建新的 'Datetime' 列\n",
    "    df['Datetime'] = pd.to_datetime(df[date_column].astype(str) + ' ' + df[time_column].astype(str))\n",
    "\n",
    "    # 提取小时信息\n",
    "    df['Hour'] = df['Datetime'].dt.hour\n",
    "\n",
    "    # 处理数据\n",
    "    def fill_or_remove(group):\n",
    "        for hour in range(24):\n",
    "            # 选出当前小时的数据\n",
    "            hourly_data = group[group['Hour'] == hour]\n",
    "\n",
    "            # 获取整点数据（例如 00:00:00, 01:00:00, ..., 23:00:00）\n",
    "            full_hour_record = hourly_data[hourly_data['Datetime'].dt.minute == 0]\n",
    "\n",
    "            if not full_hour_record.empty and not full_hour_record[value_column].isna().all():\n",
    "                # 整点有值，将整点值除以 4\n",
    "                original_value = full_hour_record[value_column].values[0]\n",
    "                divided_value = original_value / 4\n",
    "\n",
    "                # 更新整点数据\n",
    "                group.loc[(group['Hour'] == hour) & (group['Datetime'].dt.minute == 0), value_column] = divided_value\n",
    "\n",
    "                # 填充 15, 30, 45 分钟的数据\n",
    "                for minute in [15, 30, 45]:\n",
    "                    group.loc[(group['Hour'] == hour) & (group['Datetime'].dt.minute == minute), value_column] = divided_value\n",
    "            else:\n",
    "                # 整点无值，删除该小时数据\n",
    "                group = group[group['Hour'] != hour]\n",
    "\n",
    "        return group\n",
    "\n",
    "    # 按指定的 ID 列分组，并应用填充/删除逻辑\n",
    "    processed_data = df.groupby(id_columns, group_keys=False).apply(fill_or_remove)\n",
    "\n",
    "    # 删除 'Hour' 列并重置索引，但保留 'Datetime'\n",
    "    processed_data = processed_data.drop(columns=['Hour']).reset_index(drop=True)\n",
    "\n",
    "    return processed_data"
   ]
  },
  {
   "cell_type": "code",
   "execution_count": 11,
   "metadata": {},
   "outputs": [
    {
     "name": "stderr",
     "output_type": "stream",
     "text": [
      "/var/folders/t2/21wy42zs3vqf4r_24_d7j4nc0000gn/T/ipykernel_89522/3213252314.py:55: DeprecationWarning: DataFrameGroupBy.apply operated on the grouping columns. This behavior is deprecated, and in a future version of pandas the grouping columns will be excluded from the operation. Either pass `include_groups=False` to exclude the groupings or explicitly select the grouping columns after groupby to silence this warning.\n",
      "  processed_data = df.groupby(id_columns, group_keys=False).apply(fill_or_remove)\n"
     ]
    }
   ],
   "source": [
    "# 示例调用\n",
    "id_columns = ['Site_ID', 'Bound_Category', 'Date']\n",
    "time_column = 'Time'\n",
    "value_column = 'MeltedValue'\n",
    "date_column = 'Date'\n",
    "\n",
    "processed_threeDate_data_oneBound = process_dataset(threeDate_data_oneBound, id_columns, date_column,time_column, value_column)"
   ]
  },
  {
   "cell_type": "code",
   "execution_count": 13,
   "metadata": {},
   "outputs": [],
   "source": [
    "processed_threeDate_data_oneBound.to_csv('processed_threeDate_data_oneBound.csv', index=False)"
   ]
  },
  {
   "cell_type": "code",
   "execution_count": 27,
   "metadata": {},
   "outputs": [
    {
     "data": {
      "application/vnd.microsoft.datawrangler.viewer.v0+json": {
       "columns": [
        {
         "name": "index",
         "rawType": "int64",
         "type": "integer"
        },
        {
         "name": "Site_ID",
         "rawType": "object",
         "type": "string"
        },
        {
         "name": "Bound_Category",
         "rawType": "object",
         "type": "string"
        },
        {
         "name": "Time",
         "rawType": "object",
         "type": "string"
        },
        {
         "name": "Date",
         "rawType": "object",
         "type": "string"
        },
        {
         "name": "MeltedValue",
         "rawType": "float64",
         "type": "float"
        },
        {
         "name": "Datetime",
         "rawType": "datetime64[ns]",
         "type": "datetime"
        }
       ],
       "conversionMethod": "pd.DataFrame",
       "ref": "d4c2fc56-3161-4c84-84e2-f6c37faf87b9",
       "rows": [
        [
         "0",
         "0000189_8033",
         "All Northbound",
         "18:00:00",
         "2024-06-25",
         "2.0",
         "2024-06-25 18:00:00"
        ],
        [
         "1",
         "0000189_8033",
         "All Northbound",
         "18:15:00",
         "2024-06-25",
         "2.0",
         "2024-06-25 18:15:00"
        ],
        [
         "2",
         "0000189_8033",
         "All Northbound",
         "18:30:00",
         "2024-06-25",
         "2.0",
         "2024-06-25 18:30:00"
        ],
        [
         "3",
         "0000189_8033",
         "All Northbound",
         "18:45:00",
         "2024-06-25",
         "2.0",
         "2024-06-25 18:45:00"
        ],
        [
         "4",
         "0000189_8033",
         "All Northbound",
         "19:00:00",
         "2024-06-25",
         "1.25",
         "2024-06-25 19:00:00"
        ]
       ],
       "shape": {
        "columns": 6,
        "rows": 5
       }
      },
      "text/html": [
       "<div>\n",
       "<style scoped>\n",
       "    .dataframe tbody tr th:only-of-type {\n",
       "        vertical-align: middle;\n",
       "    }\n",
       "\n",
       "    .dataframe tbody tr th {\n",
       "        vertical-align: top;\n",
       "    }\n",
       "\n",
       "    .dataframe thead th {\n",
       "        text-align: right;\n",
       "    }\n",
       "</style>\n",
       "<table border=\"1\" class=\"dataframe\">\n",
       "  <thead>\n",
       "    <tr style=\"text-align: right;\">\n",
       "      <th></th>\n",
       "      <th>Site_ID</th>\n",
       "      <th>Bound_Category</th>\n",
       "      <th>Time</th>\n",
       "      <th>Date</th>\n",
       "      <th>MeltedValue</th>\n",
       "      <th>Datetime</th>\n",
       "    </tr>\n",
       "  </thead>\n",
       "  <tbody>\n",
       "    <tr>\n",
       "      <th>0</th>\n",
       "      <td>0000189_8033</td>\n",
       "      <td>All Northbound</td>\n",
       "      <td>18:00:00</td>\n",
       "      <td>2024-06-25</td>\n",
       "      <td>2.00</td>\n",
       "      <td>2024-06-25 18:00:00</td>\n",
       "    </tr>\n",
       "    <tr>\n",
       "      <th>1</th>\n",
       "      <td>0000189_8033</td>\n",
       "      <td>All Northbound</td>\n",
       "      <td>18:15:00</td>\n",
       "      <td>2024-06-25</td>\n",
       "      <td>2.00</td>\n",
       "      <td>2024-06-25 18:15:00</td>\n",
       "    </tr>\n",
       "    <tr>\n",
       "      <th>2</th>\n",
       "      <td>0000189_8033</td>\n",
       "      <td>All Northbound</td>\n",
       "      <td>18:30:00</td>\n",
       "      <td>2024-06-25</td>\n",
       "      <td>2.00</td>\n",
       "      <td>2024-06-25 18:30:00</td>\n",
       "    </tr>\n",
       "    <tr>\n",
       "      <th>3</th>\n",
       "      <td>0000189_8033</td>\n",
       "      <td>All Northbound</td>\n",
       "      <td>18:45:00</td>\n",
       "      <td>2024-06-25</td>\n",
       "      <td>2.00</td>\n",
       "      <td>2024-06-25 18:45:00</td>\n",
       "    </tr>\n",
       "    <tr>\n",
       "      <th>4</th>\n",
       "      <td>0000189_8033</td>\n",
       "      <td>All Northbound</td>\n",
       "      <td>19:00:00</td>\n",
       "      <td>2024-06-25</td>\n",
       "      <td>1.25</td>\n",
       "      <td>2024-06-25 19:00:00</td>\n",
       "    </tr>\n",
       "  </tbody>\n",
       "</table>\n",
       "</div>"
      ],
      "text/plain": [
       "        Site_ID  Bound_Category      Time        Date  MeltedValue  \\\n",
       "0  0000189_8033  All Northbound  18:00:00  2024-06-25         2.00   \n",
       "1  0000189_8033  All Northbound  18:15:00  2024-06-25         2.00   \n",
       "2  0000189_8033  All Northbound  18:30:00  2024-06-25         2.00   \n",
       "3  0000189_8033  All Northbound  18:45:00  2024-06-25         2.00   \n",
       "4  0000189_8033  All Northbound  19:00:00  2024-06-25         1.25   \n",
       "\n",
       "             Datetime  \n",
       "0 2024-06-25 18:00:00  \n",
       "1 2024-06-25 18:15:00  \n",
       "2 2024-06-25 18:30:00  \n",
       "3 2024-06-25 18:45:00  \n",
       "4 2024-06-25 19:00:00  "
      ]
     },
     "execution_count": 27,
     "metadata": {},
     "output_type": "execute_result"
    }
   ],
   "source": [
    "processed_threeDate_data_oneBound.head()"
   ]
  },
  {
   "cell_type": "code",
   "execution_count": 6,
   "metadata": {},
   "outputs": [
    {
     "name": "stderr",
     "output_type": "stream",
     "text": [
      "/var/folders/t2/21wy42zs3vqf4r_24_d7j4nc0000gn/T/ipykernel_59858/3213252314.py:55: DeprecationWarning: DataFrameGroupBy.apply operated on the grouping columns. This behavior is deprecated, and in a future version of pandas the grouping columns will be excluded from the operation. Either pass `include_groups=False` to exclude the groupings or explicitly select the grouping columns after groupby to silence this warning.\n",
      "  processed_data = df.groupby(id_columns, group_keys=False).apply(fill_or_remove)\n"
     ]
    }
   ],
   "source": [
    "id_columns = ['Site_ID', 'Bound_Category', 'Date']\n",
    "time_column = 'Time'\n",
    "value_column = 'MeltedValue'\n",
    "date_column = 'Date'\n",
    "processed_subset = process_dataset(subset, id_columns, date_column,time_column, value_column)"
   ]
  },
  {
   "cell_type": "code",
   "execution_count": null,
   "metadata": {},
   "outputs": [],
   "source": [
    "processed_subset"
   ]
  },
  {
   "cell_type": "markdown",
   "metadata": {},
   "source": [
    "# 合并数据"
   ]
  },
  {
   "cell_type": "code",
   "execution_count": 14,
   "metadata": {},
   "outputs": [],
   "source": [
    "import pandas as pd\n",
    "\n",
    "moreDate_data = pd.read_csv(\"./combined_results_deduplicated_triangle.csv\")\n",
    "\n",
    "# 读取你之前处理过的单一方向数据\n",
    "processed_threeDate_data_oneBound = pd.read_csv('processed_threeDate_data_oneBound.csv')\n",
    "\n",
    "# 读取原始的 blue dot 数据\n",
    "combined_results_bluedot = pd.read_csv('combined_results_bluedot.csv')"
   ]
  },
  {
   "cell_type": "code",
   "execution_count": 15,
   "metadata": {},
   "outputs": [
    {
     "data": {
      "application/vnd.microsoft.datawrangler.viewer.v0+json": {
       "columns": [
        {
         "name": "index",
         "rawType": "int64",
         "type": "integer"
        },
        {
         "name": "Site_ID",
         "rawType": "int64",
         "type": "integer"
        },
        {
         "name": "Bound_Category",
         "rawType": "object",
         "type": "string"
        },
        {
         "name": "Time",
         "rawType": "object",
         "type": "string"
        },
        {
         "name": "Date",
         "rawType": "object",
         "type": "string"
        },
        {
         "name": "MeltedValue",
         "rawType": "float64",
         "type": "float"
        }
       ],
       "conversionMethod": "pd.DataFrame",
       "ref": "49434f21-2f0f-4123-8898-a75b39fbbae2",
       "rows": [
        [
         "0",
         "1215468",
         "All Northbound",
         "00:00:00",
         "2023-05-01",
         "1063.0"
        ]
       ],
       "shape": {
        "columns": 5,
        "rows": 1
       }
      },
      "text/html": [
       "<div>\n",
       "<style scoped>\n",
       "    .dataframe tbody tr th:only-of-type {\n",
       "        vertical-align: middle;\n",
       "    }\n",
       "\n",
       "    .dataframe tbody tr th {\n",
       "        vertical-align: top;\n",
       "    }\n",
       "\n",
       "    .dataframe thead th {\n",
       "        text-align: right;\n",
       "    }\n",
       "</style>\n",
       "<table border=\"1\" class=\"dataframe\">\n",
       "  <thead>\n",
       "    <tr style=\"text-align: right;\">\n",
       "      <th></th>\n",
       "      <th>Site_ID</th>\n",
       "      <th>Bound_Category</th>\n",
       "      <th>Time</th>\n",
       "      <th>Date</th>\n",
       "      <th>MeltedValue</th>\n",
       "    </tr>\n",
       "  </thead>\n",
       "  <tbody>\n",
       "    <tr>\n",
       "      <th>0</th>\n",
       "      <td>1215468</td>\n",
       "      <td>All Northbound</td>\n",
       "      <td>00:00:00</td>\n",
       "      <td>2023-05-01</td>\n",
       "      <td>1063.0</td>\n",
       "    </tr>\n",
       "  </tbody>\n",
       "</table>\n",
       "</div>"
      ],
      "text/plain": [
       "   Site_ID  Bound_Category      Time        Date  MeltedValue\n",
       "0  1215468  All Northbound  00:00:00  2023-05-01       1063.0"
      ]
     },
     "execution_count": 15,
     "metadata": {},
     "output_type": "execute_result"
    }
   ],
   "source": [
    "moreDate_data.head(1)"
   ]
  },
  {
   "cell_type": "code",
   "execution_count": 16,
   "metadata": {},
   "outputs": [],
   "source": [
    "processed_threeDate_data_oneBound.head(1)\n",
    "processed_threeDate_data_oneBound = processed_threeDate_data_oneBound[['Site_ID', 'Bound_Category', 'Time', 'Date', 'MeltedValue']]"
   ]
  },
  {
   "cell_type": "code",
   "execution_count": 9,
   "metadata": {},
   "outputs": [
    {
     "data": {
      "application/vnd.microsoft.datawrangler.viewer.v0+json": {
       "columns": [
        {
         "name": "index",
         "rawType": "int64",
         "type": "integer"
        },
        {
         "name": "Site_ID",
         "rawType": "object",
         "type": "string"
        },
        {
         "name": "Bound_Category",
         "rawType": "object",
         "type": "string"
        },
        {
         "name": "Time",
         "rawType": "object",
         "type": "string"
        },
        {
         "name": "Date",
         "rawType": "object",
         "type": "string"
        },
        {
         "name": "MeltedValue",
         "rawType": "float64",
         "type": "float"
        }
       ],
       "conversionMethod": "pd.DataFrame",
       "ref": "6a9f5fb4-28f8-4ccb-aa15-18d6b664e27a",
       "rows": [
        [
         "0",
         "0000261_0154",
         "All Northbound",
         "00:00:00",
         "2023-07-11",
         null
        ]
       ],
       "shape": {
        "columns": 5,
        "rows": 1
       }
      },
      "text/html": [
       "<div>\n",
       "<style scoped>\n",
       "    .dataframe tbody tr th:only-of-type {\n",
       "        vertical-align: middle;\n",
       "    }\n",
       "\n",
       "    .dataframe tbody tr th {\n",
       "        vertical-align: top;\n",
       "    }\n",
       "\n",
       "    .dataframe thead th {\n",
       "        text-align: right;\n",
       "    }\n",
       "</style>\n",
       "<table border=\"1\" class=\"dataframe\">\n",
       "  <thead>\n",
       "    <tr style=\"text-align: right;\">\n",
       "      <th></th>\n",
       "      <th>Site_ID</th>\n",
       "      <th>Bound_Category</th>\n",
       "      <th>Time</th>\n",
       "      <th>Date</th>\n",
       "      <th>MeltedValue</th>\n",
       "    </tr>\n",
       "  </thead>\n",
       "  <tbody>\n",
       "    <tr>\n",
       "      <th>0</th>\n",
       "      <td>0000261_0154</td>\n",
       "      <td>All Northbound</td>\n",
       "      <td>00:00:00</td>\n",
       "      <td>2023-07-11</td>\n",
       "      <td>NaN</td>\n",
       "    </tr>\n",
       "  </tbody>\n",
       "</table>\n",
       "</div>"
      ],
      "text/plain": [
       "        Site_ID  Bound_Category      Time        Date  MeltedValue\n",
       "0  0000261_0154  All Northbound  00:00:00  2023-07-11          NaN"
      ]
     },
     "execution_count": 9,
     "metadata": {},
     "output_type": "execute_result"
    }
   ],
   "source": [
    "combined_results_bluedot.head(1)"
   ]
  },
  {
   "cell_type": "code",
   "execution_count": 17,
   "metadata": {},
   "outputs": [],
   "source": [
    "combined_df = pd.concat([moreDate_data, processed_threeDate_data_oneBound, combined_results_bluedot], ignore_index=True)"
   ]
  },
  {
   "cell_type": "code",
   "execution_count": 18,
   "metadata": {},
   "outputs": [
    {
     "name": "stdout",
     "output_type": "stream",
     "text": [
      "(37628832, 5)\n",
      "Index(['Site_ID', 'Bound_Category', 'Time', 'Date', 'MeltedValue'], dtype='object')\n"
     ]
    }
   ],
   "source": [
    "# 查看合并后的结果\n",
    "print(combined_df.shape)\n",
    "print(combined_df.columns)"
   ]
  },
  {
   "cell_type": "code",
   "execution_count": 19,
   "metadata": {},
   "outputs": [],
   "source": [
    "combined_df.to_csv('all_data_combined.csv', index=False)"
   ]
  }
 ],
 "metadata": {
  "kernelspec": {
   "display_name": "base",
   "language": "python",
   "name": "python3"
  },
  "language_info": {
   "codemirror_mode": {
    "name": "ipython",
    "version": 3
   },
   "file_extension": ".py",
   "mimetype": "text/x-python",
   "name": "python",
   "nbconvert_exporter": "python",
   "pygments_lexer": "ipython3",
   "version": "3.9.15"
  }
 },
 "nbformat": 4,
 "nbformat_minor": 2
}
